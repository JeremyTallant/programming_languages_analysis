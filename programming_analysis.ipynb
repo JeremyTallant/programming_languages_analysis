{
 "cells": [
  {
   "cell_type": "markdown",
   "metadata": {
    "dc": {
     "key": "4"
    },
    "deletable": false,
    "editable": false,
    "run_control": {
     "frozen": true
    },
    "tags": [
     "context"
    ]
   },
   "source": [
    "## 1. Data on tags over time\n",
    "<p>How can we tell what programming languages and technologies are used by the most people? How about what languages are growing and which are shrinking, so that we can tell which are most worth investing time in?</p>\n",
    "<p>One excellent source of data is <a href=\"https://stackoverflow.com/\">Stack Overflow</a>, a programming question and answer site with more than 16 million questions on programming topics. By measuring the number of questions about each technology, we can get an approximate sense of how many people are using it. We're going to use open data from the <a href=\"https://data.stackexchange.com/\">Stack Exchange Data Explorer</a> to examine the relative popularity of languages like R, Python, Java and Javascript have changed over time.</p>\n",
    "<p>Each Stack Overflow question has a <strong>tag</strong>, which marks a question to describe its topic or technology. For instance, there's a tag for languages like <a href=\"https://stackoverflow.com/tags/r\">R</a> or <a href=\"https://stackoverflow.com/tags/python\">Python</a>, and for packages like <a href=\"https://stackoverflow.com/questions/tagged/ggplot2\">ggplot2</a> or <a href=\"https://stackoverflow.com/questions/tagged/pandas\">pandas</a>.</p>\n",
    "<p><img src=\"https://assets.datacamp.com/production/project_435/img/tags.png\" alt=\"Stack Overflow tags\"></p>\n",
    "<p>We'll be working with a dataset with one observation for each tag in each year. The dataset includes both the number of questions asked in that tag in that year, and the total number of questions asked in that year.</p>"
   ]
  },
  {
   "cell_type": "code",
   "execution_count": 1,
   "metadata": {
    "dc": {
     "key": "4"
    },
    "tags": [
     "sample_code"
    ]
   },
   "outputs": [
    {
     "name": "stderr",
     "output_type": "stream",
     "text": [
      "\n",
      "Attaching package: ‘dplyr’\n",
      "\n",
      "\n",
      "The following objects are masked from ‘package:stats’:\n",
      "\n",
      "    filter, lag\n",
      "\n",
      "\n",
      "The following objects are masked from ‘package:base’:\n",
      "\n",
      "    intersect, setdiff, setequal, union\n",
      "\n",
      "\n",
      "\u001b[1mRows: \u001b[22m\u001b[34m40518\u001b[39m \u001b[1mColumns: \u001b[22m\u001b[34m4\u001b[39m\n",
      "\u001b[36m──\u001b[39m \u001b[1mColumn specification\u001b[22m \u001b[36m────────────────────────────────────────────────────────\u001b[39m\n",
      "\u001b[1mDelimiter:\u001b[22m \",\"\n",
      "\u001b[31mchr\u001b[39m (1): tag\n",
      "\u001b[32mdbl\u001b[39m (3): year, number, year_total\n",
      "\n",
      "\u001b[36mℹ\u001b[39m Use `spec()` to retrieve the full column specification for this data.\n",
      "\u001b[36mℹ\u001b[39m Specify the column types or set `show_col_types = FALSE` to quiet this message.\n"
     ]
    },
    {
     "data": {
      "text/html": [
       "<table class=\"dataframe\">\n",
       "<caption>A spec_tbl_df: 40518 × 4</caption>\n",
       "<thead>\n",
       "\t<tr><th scope=col>year</th><th scope=col>tag</th><th scope=col>number</th><th scope=col>year_total</th></tr>\n",
       "\t<tr><th scope=col>&lt;dbl&gt;</th><th scope=col>&lt;chr&gt;</th><th scope=col>&lt;dbl&gt;</th><th scope=col>&lt;dbl&gt;</th></tr>\n",
       "</thead>\n",
       "<tbody>\n",
       "\t<tr><td>2008</td><td>.htaccess           </td><td>  54</td><td>58390</td></tr>\n",
       "\t<tr><td>2008</td><td>.net                </td><td>5910</td><td>58390</td></tr>\n",
       "\t<tr><td>2008</td><td>.net-2.0            </td><td> 289</td><td>58390</td></tr>\n",
       "\t<tr><td>2008</td><td>.net-3.5            </td><td> 319</td><td>58390</td></tr>\n",
       "\t<tr><td>2008</td><td>.net-4.0            </td><td>   6</td><td>58390</td></tr>\n",
       "\t<tr><td>2008</td><td>.net-assembly       </td><td>   3</td><td>58390</td></tr>\n",
       "\t<tr><td>2008</td><td>.net-core           </td><td>   1</td><td>58390</td></tr>\n",
       "\t<tr><td>2008</td><td>2d                  </td><td>  42</td><td>58390</td></tr>\n",
       "\t<tr><td>2008</td><td>32-bit              </td><td>  19</td><td>58390</td></tr>\n",
       "\t<tr><td>2008</td><td>32bit-64bit         </td><td>   4</td><td>58390</td></tr>\n",
       "\t<tr><td>2008</td><td>3d                  </td><td>  73</td><td>58390</td></tr>\n",
       "\t<tr><td>2008</td><td>64bit               </td><td> 149</td><td>58390</td></tr>\n",
       "\t<tr><td>2008</td><td>abap                </td><td>  10</td><td>58390</td></tr>\n",
       "\t<tr><td>2008</td><td>absolute            </td><td>   1</td><td>58390</td></tr>\n",
       "\t<tr><td>2008</td><td>abstract            </td><td>   5</td><td>58390</td></tr>\n",
       "\t<tr><td>2008</td><td>abstract-class      </td><td>  27</td><td>58390</td></tr>\n",
       "\t<tr><td>2008</td><td>abstract-syntax-tree</td><td>   6</td><td>58390</td></tr>\n",
       "\t<tr><td>2008</td><td>accelerometer       </td><td>   3</td><td>58390</td></tr>\n",
       "\t<tr><td>2008</td><td>access              </td><td>   1</td><td>58390</td></tr>\n",
       "\t<tr><td>2008</td><td>access-control      </td><td>  12</td><td>58390</td></tr>\n",
       "\t<tr><td>2008</td><td>accessibility       </td><td>  26</td><td>58390</td></tr>\n",
       "\t<tr><td>2008</td><td>access-vba          </td><td>  50</td><td>58390</td></tr>\n",
       "\t<tr><td>2008</td><td>access-violation    </td><td>   4</td><td>58390</td></tr>\n",
       "\t<tr><td>2008</td><td>accordion           </td><td>   9</td><td>58390</td></tr>\n",
       "\t<tr><td>2008</td><td>acl                 </td><td>  11</td><td>58390</td></tr>\n",
       "\t<tr><td>2008</td><td>acrobat             </td><td>  10</td><td>58390</td></tr>\n",
       "\t<tr><td>2008</td><td>action              </td><td>  10</td><td>58390</td></tr>\n",
       "\t<tr><td>2008</td><td>actionlistener      </td><td>   4</td><td>58390</td></tr>\n",
       "\t<tr><td>2008</td><td>actionmailer        </td><td>   3</td><td>58390</td></tr>\n",
       "\t<tr><td>2008</td><td>actionscript        </td><td> 136</td><td>58390</td></tr>\n",
       "\t<tr><td>⋮</td><td>⋮</td><td>⋮</td><td>⋮</td></tr>\n",
       "\t<tr><td>2018</td><td>yaml             </td><td> 648</td><td>1085170</td></tr>\n",
       "\t<tr><td>2018</td><td>yarn             </td><td> 357</td><td>1085170</td></tr>\n",
       "\t<tr><td>2018</td><td>yeoman           </td><td>  36</td><td>1085170</td></tr>\n",
       "\t<tr><td>2018</td><td>yesod            </td><td>  41</td><td>1085170</td></tr>\n",
       "\t<tr><td>2018</td><td>yield            </td><td>  69</td><td>1085170</td></tr>\n",
       "\t<tr><td>2018</td><td>yii              </td><td> 269</td><td>1085170</td></tr>\n",
       "\t<tr><td>2018</td><td>yii2             </td><td>1181</td><td>1085170</td></tr>\n",
       "\t<tr><td>2018</td><td>yii2-advanced-app</td><td> 209</td><td>1085170</td></tr>\n",
       "\t<tr><td>2018</td><td>yocto            </td><td> 288</td><td>1085170</td></tr>\n",
       "\t<tr><td>2018</td><td>youtube          </td><td> 676</td><td>1085170</td></tr>\n",
       "\t<tr><td>2018</td><td>youtube-api      </td><td> 473</td><td>1085170</td></tr>\n",
       "\t<tr><td>2018</td><td>youtube-api-v3   </td><td> 223</td><td>1085170</td></tr>\n",
       "\t<tr><td>2018</td><td>youtube-data-api </td><td> 203</td><td>1085170</td></tr>\n",
       "\t<tr><td>2018</td><td>yui              </td><td>   5</td><td>1085170</td></tr>\n",
       "\t<tr><td>2018</td><td>yum              </td><td>  98</td><td>1085170</td></tr>\n",
       "\t<tr><td>2018</td><td>z3               </td><td> 124</td><td>1085170</td></tr>\n",
       "\t<tr><td>2018</td><td>zend-db          </td><td>  11</td><td>1085170</td></tr>\n",
       "\t<tr><td>2018</td><td>zend-form        </td><td>  13</td><td>1085170</td></tr>\n",
       "\t<tr><td>2018</td><td>zend-framework   </td><td> 188</td><td>1085170</td></tr>\n",
       "\t<tr><td>2018</td><td>zend-framework2  </td><td> 108</td><td>1085170</td></tr>\n",
       "\t<tr><td>2018</td><td>zeromq           </td><td> 168</td><td>1085170</td></tr>\n",
       "\t<tr><td>2018</td><td>z-index          </td><td> 107</td><td>1085170</td></tr>\n",
       "\t<tr><td>2018</td><td>zip              </td><td> 410</td><td>1085170</td></tr>\n",
       "\t<tr><td>2018</td><td>zipfile          </td><td> 115</td><td>1085170</td></tr>\n",
       "\t<tr><td>2018</td><td>zk               </td><td>  35</td><td>1085170</td></tr>\n",
       "\t<tr><td>2018</td><td>zlib             </td><td>  89</td><td>1085170</td></tr>\n",
       "\t<tr><td>2018</td><td>zoom             </td><td> 196</td><td>1085170</td></tr>\n",
       "\t<tr><td>2018</td><td>zsh              </td><td> 175</td><td>1085170</td></tr>\n",
       "\t<tr><td>2018</td><td>zurb-foundation  </td><td> 182</td><td>1085170</td></tr>\n",
       "\t<tr><td>2018</td><td>zxing            </td><td>  95</td><td>1085170</td></tr>\n",
       "</tbody>\n",
       "</table>\n"
      ],
      "text/latex": [
       "A spec\\_tbl\\_df: 40518 × 4\n",
       "\\begin{tabular}{llll}\n",
       " year & tag & number & year\\_total\\\\\n",
       " <dbl> & <chr> & <dbl> & <dbl>\\\\\n",
       "\\hline\n",
       "\t 2008 & .htaccess            &   54 & 58390\\\\\n",
       "\t 2008 & .net                 & 5910 & 58390\\\\\n",
       "\t 2008 & .net-2.0             &  289 & 58390\\\\\n",
       "\t 2008 & .net-3.5             &  319 & 58390\\\\\n",
       "\t 2008 & .net-4.0             &    6 & 58390\\\\\n",
       "\t 2008 & .net-assembly        &    3 & 58390\\\\\n",
       "\t 2008 & .net-core            &    1 & 58390\\\\\n",
       "\t 2008 & 2d                   &   42 & 58390\\\\\n",
       "\t 2008 & 32-bit               &   19 & 58390\\\\\n",
       "\t 2008 & 32bit-64bit          &    4 & 58390\\\\\n",
       "\t 2008 & 3d                   &   73 & 58390\\\\\n",
       "\t 2008 & 64bit                &  149 & 58390\\\\\n",
       "\t 2008 & abap                 &   10 & 58390\\\\\n",
       "\t 2008 & absolute             &    1 & 58390\\\\\n",
       "\t 2008 & abstract             &    5 & 58390\\\\\n",
       "\t 2008 & abstract-class       &   27 & 58390\\\\\n",
       "\t 2008 & abstract-syntax-tree &    6 & 58390\\\\\n",
       "\t 2008 & accelerometer        &    3 & 58390\\\\\n",
       "\t 2008 & access               &    1 & 58390\\\\\n",
       "\t 2008 & access-control       &   12 & 58390\\\\\n",
       "\t 2008 & accessibility        &   26 & 58390\\\\\n",
       "\t 2008 & access-vba           &   50 & 58390\\\\\n",
       "\t 2008 & access-violation     &    4 & 58390\\\\\n",
       "\t 2008 & accordion            &    9 & 58390\\\\\n",
       "\t 2008 & acl                  &   11 & 58390\\\\\n",
       "\t 2008 & acrobat              &   10 & 58390\\\\\n",
       "\t 2008 & action               &   10 & 58390\\\\\n",
       "\t 2008 & actionlistener       &    4 & 58390\\\\\n",
       "\t 2008 & actionmailer         &    3 & 58390\\\\\n",
       "\t 2008 & actionscript         &  136 & 58390\\\\\n",
       "\t ⋮ & ⋮ & ⋮ & ⋮\\\\\n",
       "\t 2018 & yaml              &  648 & 1085170\\\\\n",
       "\t 2018 & yarn              &  357 & 1085170\\\\\n",
       "\t 2018 & yeoman            &   36 & 1085170\\\\\n",
       "\t 2018 & yesod             &   41 & 1085170\\\\\n",
       "\t 2018 & yield             &   69 & 1085170\\\\\n",
       "\t 2018 & yii               &  269 & 1085170\\\\\n",
       "\t 2018 & yii2              & 1181 & 1085170\\\\\n",
       "\t 2018 & yii2-advanced-app &  209 & 1085170\\\\\n",
       "\t 2018 & yocto             &  288 & 1085170\\\\\n",
       "\t 2018 & youtube           &  676 & 1085170\\\\\n",
       "\t 2018 & youtube-api       &  473 & 1085170\\\\\n",
       "\t 2018 & youtube-api-v3    &  223 & 1085170\\\\\n",
       "\t 2018 & youtube-data-api  &  203 & 1085170\\\\\n",
       "\t 2018 & yui               &    5 & 1085170\\\\\n",
       "\t 2018 & yum               &   98 & 1085170\\\\\n",
       "\t 2018 & z3                &  124 & 1085170\\\\\n",
       "\t 2018 & zend-db           &   11 & 1085170\\\\\n",
       "\t 2018 & zend-form         &   13 & 1085170\\\\\n",
       "\t 2018 & zend-framework    &  188 & 1085170\\\\\n",
       "\t 2018 & zend-framework2   &  108 & 1085170\\\\\n",
       "\t 2018 & zeromq            &  168 & 1085170\\\\\n",
       "\t 2018 & z-index           &  107 & 1085170\\\\\n",
       "\t 2018 & zip               &  410 & 1085170\\\\\n",
       "\t 2018 & zipfile           &  115 & 1085170\\\\\n",
       "\t 2018 & zk                &   35 & 1085170\\\\\n",
       "\t 2018 & zlib              &   89 & 1085170\\\\\n",
       "\t 2018 & zoom              &  196 & 1085170\\\\\n",
       "\t 2018 & zsh               &  175 & 1085170\\\\\n",
       "\t 2018 & zurb-foundation   &  182 & 1085170\\\\\n",
       "\t 2018 & zxing             &   95 & 1085170\\\\\n",
       "\\end{tabular}\n"
      ],
      "text/markdown": [
       "\n",
       "A spec_tbl_df: 40518 × 4\n",
       "\n",
       "| year &lt;dbl&gt; | tag &lt;chr&gt; | number &lt;dbl&gt; | year_total &lt;dbl&gt; |\n",
       "|---|---|---|---|\n",
       "| 2008 | .htaccess            |   54 | 58390 |\n",
       "| 2008 | .net                 | 5910 | 58390 |\n",
       "| 2008 | .net-2.0             |  289 | 58390 |\n",
       "| 2008 | .net-3.5             |  319 | 58390 |\n",
       "| 2008 | .net-4.0             |    6 | 58390 |\n",
       "| 2008 | .net-assembly        |    3 | 58390 |\n",
       "| 2008 | .net-core            |    1 | 58390 |\n",
       "| 2008 | 2d                   |   42 | 58390 |\n",
       "| 2008 | 32-bit               |   19 | 58390 |\n",
       "| 2008 | 32bit-64bit          |    4 | 58390 |\n",
       "| 2008 | 3d                   |   73 | 58390 |\n",
       "| 2008 | 64bit                |  149 | 58390 |\n",
       "| 2008 | abap                 |   10 | 58390 |\n",
       "| 2008 | absolute             |    1 | 58390 |\n",
       "| 2008 | abstract             |    5 | 58390 |\n",
       "| 2008 | abstract-class       |   27 | 58390 |\n",
       "| 2008 | abstract-syntax-tree |    6 | 58390 |\n",
       "| 2008 | accelerometer        |    3 | 58390 |\n",
       "| 2008 | access               |    1 | 58390 |\n",
       "| 2008 | access-control       |   12 | 58390 |\n",
       "| 2008 | accessibility        |   26 | 58390 |\n",
       "| 2008 | access-vba           |   50 | 58390 |\n",
       "| 2008 | access-violation     |    4 | 58390 |\n",
       "| 2008 | accordion            |    9 | 58390 |\n",
       "| 2008 | acl                  |   11 | 58390 |\n",
       "| 2008 | acrobat              |   10 | 58390 |\n",
       "| 2008 | action               |   10 | 58390 |\n",
       "| 2008 | actionlistener       |    4 | 58390 |\n",
       "| 2008 | actionmailer         |    3 | 58390 |\n",
       "| 2008 | actionscript         |  136 | 58390 |\n",
       "| ⋮ | ⋮ | ⋮ | ⋮ |\n",
       "| 2018 | yaml              |  648 | 1085170 |\n",
       "| 2018 | yarn              |  357 | 1085170 |\n",
       "| 2018 | yeoman            |   36 | 1085170 |\n",
       "| 2018 | yesod             |   41 | 1085170 |\n",
       "| 2018 | yield             |   69 | 1085170 |\n",
       "| 2018 | yii               |  269 | 1085170 |\n",
       "| 2018 | yii2              | 1181 | 1085170 |\n",
       "| 2018 | yii2-advanced-app |  209 | 1085170 |\n",
       "| 2018 | yocto             |  288 | 1085170 |\n",
       "| 2018 | youtube           |  676 | 1085170 |\n",
       "| 2018 | youtube-api       |  473 | 1085170 |\n",
       "| 2018 | youtube-api-v3    |  223 | 1085170 |\n",
       "| 2018 | youtube-data-api  |  203 | 1085170 |\n",
       "| 2018 | yui               |    5 | 1085170 |\n",
       "| 2018 | yum               |   98 | 1085170 |\n",
       "| 2018 | z3                |  124 | 1085170 |\n",
       "| 2018 | zend-db           |   11 | 1085170 |\n",
       "| 2018 | zend-form         |   13 | 1085170 |\n",
       "| 2018 | zend-framework    |  188 | 1085170 |\n",
       "| 2018 | zend-framework2   |  108 | 1085170 |\n",
       "| 2018 | zeromq            |  168 | 1085170 |\n",
       "| 2018 | z-index           |  107 | 1085170 |\n",
       "| 2018 | zip               |  410 | 1085170 |\n",
       "| 2018 | zipfile           |  115 | 1085170 |\n",
       "| 2018 | zk                |   35 | 1085170 |\n",
       "| 2018 | zlib              |   89 | 1085170 |\n",
       "| 2018 | zoom              |  196 | 1085170 |\n",
       "| 2018 | zsh               |  175 | 1085170 |\n",
       "| 2018 | zurb-foundation   |  182 | 1085170 |\n",
       "| 2018 | zxing             |   95 | 1085170 |\n",
       "\n"
      ],
      "text/plain": [
       "      year tag                  number year_total\n",
       "1     2008 .htaccess              54   58390     \n",
       "2     2008 .net                 5910   58390     \n",
       "3     2008 .net-2.0              289   58390     \n",
       "4     2008 .net-3.5              319   58390     \n",
       "5     2008 .net-4.0                6   58390     \n",
       "6     2008 .net-assembly           3   58390     \n",
       "7     2008 .net-core               1   58390     \n",
       "8     2008 2d                     42   58390     \n",
       "9     2008 32-bit                 19   58390     \n",
       "10    2008 32bit-64bit             4   58390     \n",
       "11    2008 3d                     73   58390     \n",
       "12    2008 64bit                 149   58390     \n",
       "13    2008 abap                   10   58390     \n",
       "14    2008 absolute                1   58390     \n",
       "15    2008 abstract                5   58390     \n",
       "16    2008 abstract-class         27   58390     \n",
       "17    2008 abstract-syntax-tree    6   58390     \n",
       "18    2008 accelerometer           3   58390     \n",
       "19    2008 access                  1   58390     \n",
       "20    2008 access-control         12   58390     \n",
       "21    2008 accessibility          26   58390     \n",
       "22    2008 access-vba             50   58390     \n",
       "23    2008 access-violation        4   58390     \n",
       "24    2008 accordion               9   58390     \n",
       "25    2008 acl                    11   58390     \n",
       "26    2008 acrobat                10   58390     \n",
       "27    2008 action                 10   58390     \n",
       "28    2008 actionlistener          4   58390     \n",
       "29    2008 actionmailer            3   58390     \n",
       "30    2008 actionscript          136   58390     \n",
       "⋮     ⋮    ⋮                    ⋮      ⋮         \n",
       "40489 2018 yaml                  648   1085170   \n",
       "40490 2018 yarn                  357   1085170   \n",
       "40491 2018 yeoman                 36   1085170   \n",
       "40492 2018 yesod                  41   1085170   \n",
       "40493 2018 yield                  69   1085170   \n",
       "40494 2018 yii                   269   1085170   \n",
       "40495 2018 yii2                 1181   1085170   \n",
       "40496 2018 yii2-advanced-app     209   1085170   \n",
       "40497 2018 yocto                 288   1085170   \n",
       "40498 2018 youtube               676   1085170   \n",
       "40499 2018 youtube-api           473   1085170   \n",
       "40500 2018 youtube-api-v3        223   1085170   \n",
       "40501 2018 youtube-data-api      203   1085170   \n",
       "40502 2018 yui                     5   1085170   \n",
       "40503 2018 yum                    98   1085170   \n",
       "40504 2018 z3                    124   1085170   \n",
       "40505 2018 zend-db                11   1085170   \n",
       "40506 2018 zend-form              13   1085170   \n",
       "40507 2018 zend-framework        188   1085170   \n",
       "40508 2018 zend-framework2       108   1085170   \n",
       "40509 2018 zeromq                168   1085170   \n",
       "40510 2018 z-index               107   1085170   \n",
       "40511 2018 zip                   410   1085170   \n",
       "40512 2018 zipfile               115   1085170   \n",
       "40513 2018 zk                     35   1085170   \n",
       "40514 2018 zlib                   89   1085170   \n",
       "40515 2018 zoom                  196   1085170   \n",
       "40516 2018 zsh                   175   1085170   \n",
       "40517 2018 zurb-foundation       182   1085170   \n",
       "40518 2018 zxing                  95   1085170   "
      ]
     },
     "metadata": {},
     "output_type": "display_data"
    }
   ],
   "source": [
    "# Load libraries\n",
    "library(readr)\n",
    "library(dplyr)\n",
    "\n",
    "# Load dataset\n",
    "by_tag_year <- read_csv(\"datasets/by_tag_year.csv\")\n",
    "\n",
    "# Inspect the dataset\n",
    "by_tag_year"
   ]
  },
  {
   "cell_type": "markdown",
   "metadata": {
    "dc": {
     "key": "11"
    },
    "deletable": false,
    "editable": false,
    "run_control": {
     "frozen": true
    },
    "tags": [
     "context"
    ]
   },
   "source": [
    "## 2. Now in fraction format\n",
    "<p>This data has one observation for each pair of a tag and a year, showing the number of questions asked in that tag in that year and the total number of questions asked in that year. For instance, there were 54 questions asked about the <code>.htaccess</code> tag in 2008, out of a total of 58390 questions in that year.</p>\n",
    "<p>Rather than just the counts, we're probably interested in a percentage: the fraction of questions that year that have that tag. So let's add that to the table.</p>"
   ]
  },
  {
   "cell_type": "code",
   "execution_count": 2,
   "metadata": {
    "dc": {
     "key": "11"
    },
    "tags": [
     "sample_code"
    ]
   },
   "outputs": [
    {
     "data": {
      "text/html": [
       "<table class=\"dataframe\">\n",
       "<caption>A tibble: 40518 × 5</caption>\n",
       "<thead>\n",
       "\t<tr><th scope=col>year</th><th scope=col>tag</th><th scope=col>number</th><th scope=col>year_total</th><th scope=col>fraction</th></tr>\n",
       "\t<tr><th scope=col>&lt;dbl&gt;</th><th scope=col>&lt;chr&gt;</th><th scope=col>&lt;dbl&gt;</th><th scope=col>&lt;dbl&gt;</th><th scope=col>&lt;dbl&gt;</th></tr>\n",
       "</thead>\n",
       "<tbody>\n",
       "\t<tr><td>2008</td><td>.htaccess           </td><td>  54</td><td>58390</td><td>9.248159e-04</td></tr>\n",
       "\t<tr><td>2008</td><td>.net                </td><td>5910</td><td>58390</td><td>1.012160e-01</td></tr>\n",
       "\t<tr><td>2008</td><td>.net-2.0            </td><td> 289</td><td>58390</td><td>4.949478e-03</td></tr>\n",
       "\t<tr><td>2008</td><td>.net-3.5            </td><td> 319</td><td>58390</td><td>5.463264e-03</td></tr>\n",
       "\t<tr><td>2008</td><td>.net-4.0            </td><td>   6</td><td>58390</td><td>1.027573e-04</td></tr>\n",
       "\t<tr><td>2008</td><td>.net-assembly       </td><td>   3</td><td>58390</td><td>5.137866e-05</td></tr>\n",
       "\t<tr><td>2008</td><td>.net-core           </td><td>   1</td><td>58390</td><td>1.712622e-05</td></tr>\n",
       "\t<tr><td>2008</td><td>2d                  </td><td>  42</td><td>58390</td><td>7.193013e-04</td></tr>\n",
       "\t<tr><td>2008</td><td>32-bit              </td><td>  19</td><td>58390</td><td>3.253982e-04</td></tr>\n",
       "\t<tr><td>2008</td><td>32bit-64bit         </td><td>   4</td><td>58390</td><td>6.850488e-05</td></tr>\n",
       "\t<tr><td>2008</td><td>3d                  </td><td>  73</td><td>58390</td><td>1.250214e-03</td></tr>\n",
       "\t<tr><td>2008</td><td>64bit               </td><td> 149</td><td>58390</td><td>2.551807e-03</td></tr>\n",
       "\t<tr><td>2008</td><td>abap                </td><td>  10</td><td>58390</td><td>1.712622e-04</td></tr>\n",
       "\t<tr><td>2008</td><td>absolute            </td><td>   1</td><td>58390</td><td>1.712622e-05</td></tr>\n",
       "\t<tr><td>2008</td><td>abstract            </td><td>   5</td><td>58390</td><td>8.563110e-05</td></tr>\n",
       "\t<tr><td>2008</td><td>abstract-class      </td><td>  27</td><td>58390</td><td>4.624079e-04</td></tr>\n",
       "\t<tr><td>2008</td><td>abstract-syntax-tree</td><td>   6</td><td>58390</td><td>1.027573e-04</td></tr>\n",
       "\t<tr><td>2008</td><td>accelerometer       </td><td>   3</td><td>58390</td><td>5.137866e-05</td></tr>\n",
       "\t<tr><td>2008</td><td>access              </td><td>   1</td><td>58390</td><td>1.712622e-05</td></tr>\n",
       "\t<tr><td>2008</td><td>access-control      </td><td>  12</td><td>58390</td><td>2.055146e-04</td></tr>\n",
       "\t<tr><td>2008</td><td>accessibility       </td><td>  26</td><td>58390</td><td>4.452817e-04</td></tr>\n",
       "\t<tr><td>2008</td><td>access-vba          </td><td>  50</td><td>58390</td><td>8.563110e-04</td></tr>\n",
       "\t<tr><td>2008</td><td>access-violation    </td><td>   4</td><td>58390</td><td>6.850488e-05</td></tr>\n",
       "\t<tr><td>2008</td><td>accordion           </td><td>   9</td><td>58390</td><td>1.541360e-04</td></tr>\n",
       "\t<tr><td>2008</td><td>acl                 </td><td>  11</td><td>58390</td><td>1.883884e-04</td></tr>\n",
       "\t<tr><td>2008</td><td>acrobat             </td><td>  10</td><td>58390</td><td>1.712622e-04</td></tr>\n",
       "\t<tr><td>2008</td><td>action              </td><td>  10</td><td>58390</td><td>1.712622e-04</td></tr>\n",
       "\t<tr><td>2008</td><td>actionlistener      </td><td>   4</td><td>58390</td><td>6.850488e-05</td></tr>\n",
       "\t<tr><td>2008</td><td>actionmailer        </td><td>   3</td><td>58390</td><td>5.137866e-05</td></tr>\n",
       "\t<tr><td>2008</td><td>actionscript        </td><td> 136</td><td>58390</td><td>2.329166e-03</td></tr>\n",
       "\t<tr><td>⋮</td><td>⋮</td><td>⋮</td><td>⋮</td><td>⋮</td></tr>\n",
       "\t<tr><td>2018</td><td>yaml             </td><td> 648</td><td>1085170</td><td>5.971415e-04</td></tr>\n",
       "\t<tr><td>2018</td><td>yarn             </td><td> 357</td><td>1085170</td><td>3.289807e-04</td></tr>\n",
       "\t<tr><td>2018</td><td>yeoman           </td><td>  36</td><td>1085170</td><td>3.317453e-05</td></tr>\n",
       "\t<tr><td>2018</td><td>yesod            </td><td>  41</td><td>1085170</td><td>3.778210e-05</td></tr>\n",
       "\t<tr><td>2018</td><td>yield            </td><td>  69</td><td>1085170</td><td>6.358451e-05</td></tr>\n",
       "\t<tr><td>2018</td><td>yii              </td><td> 269</td><td>1085170</td><td>2.478874e-04</td></tr>\n",
       "\t<tr><td>2018</td><td>yii2             </td><td>1181</td><td>1085170</td><td>1.088309e-03</td></tr>\n",
       "\t<tr><td>2018</td><td>yii2-advanced-app</td><td> 209</td><td>1085170</td><td>1.925966e-04</td></tr>\n",
       "\t<tr><td>2018</td><td>yocto            </td><td> 288</td><td>1085170</td><td>2.653962e-04</td></tr>\n",
       "\t<tr><td>2018</td><td>youtube          </td><td> 676</td><td>1085170</td><td>6.229439e-04</td></tr>\n",
       "\t<tr><td>2018</td><td>youtube-api      </td><td> 473</td><td>1085170</td><td>4.358764e-04</td></tr>\n",
       "\t<tr><td>2018</td><td>youtube-api-v3   </td><td> 223</td><td>1085170</td><td>2.054978e-04</td></tr>\n",
       "\t<tr><td>2018</td><td>youtube-data-api </td><td> 203</td><td>1085170</td><td>1.870675e-04</td></tr>\n",
       "\t<tr><td>2018</td><td>yui              </td><td>   5</td><td>1085170</td><td>4.607573e-06</td></tr>\n",
       "\t<tr><td>2018</td><td>yum              </td><td>  98</td><td>1085170</td><td>9.030843e-05</td></tr>\n",
       "\t<tr><td>2018</td><td>z3               </td><td> 124</td><td>1085170</td><td>1.142678e-04</td></tr>\n",
       "\t<tr><td>2018</td><td>zend-db          </td><td>  11</td><td>1085170</td><td>1.013666e-05</td></tr>\n",
       "\t<tr><td>2018</td><td>zend-form        </td><td>  13</td><td>1085170</td><td>1.197969e-05</td></tr>\n",
       "\t<tr><td>2018</td><td>zend-framework   </td><td> 188</td><td>1085170</td><td>1.732447e-04</td></tr>\n",
       "\t<tr><td>2018</td><td>zend-framework2  </td><td> 108</td><td>1085170</td><td>9.952358e-05</td></tr>\n",
       "\t<tr><td>2018</td><td>zeromq           </td><td> 168</td><td>1085170</td><td>1.548145e-04</td></tr>\n",
       "\t<tr><td>2018</td><td>z-index          </td><td> 107</td><td>1085170</td><td>9.860206e-05</td></tr>\n",
       "\t<tr><td>2018</td><td>zip              </td><td> 410</td><td>1085170</td><td>3.778210e-04</td></tr>\n",
       "\t<tr><td>2018</td><td>zipfile          </td><td> 115</td><td>1085170</td><td>1.059742e-04</td></tr>\n",
       "\t<tr><td>2018</td><td>zk               </td><td>  35</td><td>1085170</td><td>3.225301e-05</td></tr>\n",
       "\t<tr><td>2018</td><td>zlib             </td><td>  89</td><td>1085170</td><td>8.201480e-05</td></tr>\n",
       "\t<tr><td>2018</td><td>zoom             </td><td> 196</td><td>1085170</td><td>1.806169e-04</td></tr>\n",
       "\t<tr><td>2018</td><td>zsh              </td><td> 175</td><td>1085170</td><td>1.612651e-04</td></tr>\n",
       "\t<tr><td>2018</td><td>zurb-foundation  </td><td> 182</td><td>1085170</td><td>1.677157e-04</td></tr>\n",
       "\t<tr><td>2018</td><td>zxing            </td><td>  95</td><td>1085170</td><td>8.754389e-05</td></tr>\n",
       "</tbody>\n",
       "</table>\n"
      ],
      "text/latex": [
       "A tibble: 40518 × 5\n",
       "\\begin{tabular}{lllll}\n",
       " year & tag & number & year\\_total & fraction\\\\\n",
       " <dbl> & <chr> & <dbl> & <dbl> & <dbl>\\\\\n",
       "\\hline\n",
       "\t 2008 & .htaccess            &   54 & 58390 & 9.248159e-04\\\\\n",
       "\t 2008 & .net                 & 5910 & 58390 & 1.012160e-01\\\\\n",
       "\t 2008 & .net-2.0             &  289 & 58390 & 4.949478e-03\\\\\n",
       "\t 2008 & .net-3.5             &  319 & 58390 & 5.463264e-03\\\\\n",
       "\t 2008 & .net-4.0             &    6 & 58390 & 1.027573e-04\\\\\n",
       "\t 2008 & .net-assembly        &    3 & 58390 & 5.137866e-05\\\\\n",
       "\t 2008 & .net-core            &    1 & 58390 & 1.712622e-05\\\\\n",
       "\t 2008 & 2d                   &   42 & 58390 & 7.193013e-04\\\\\n",
       "\t 2008 & 32-bit               &   19 & 58390 & 3.253982e-04\\\\\n",
       "\t 2008 & 32bit-64bit          &    4 & 58390 & 6.850488e-05\\\\\n",
       "\t 2008 & 3d                   &   73 & 58390 & 1.250214e-03\\\\\n",
       "\t 2008 & 64bit                &  149 & 58390 & 2.551807e-03\\\\\n",
       "\t 2008 & abap                 &   10 & 58390 & 1.712622e-04\\\\\n",
       "\t 2008 & absolute             &    1 & 58390 & 1.712622e-05\\\\\n",
       "\t 2008 & abstract             &    5 & 58390 & 8.563110e-05\\\\\n",
       "\t 2008 & abstract-class       &   27 & 58390 & 4.624079e-04\\\\\n",
       "\t 2008 & abstract-syntax-tree &    6 & 58390 & 1.027573e-04\\\\\n",
       "\t 2008 & accelerometer        &    3 & 58390 & 5.137866e-05\\\\\n",
       "\t 2008 & access               &    1 & 58390 & 1.712622e-05\\\\\n",
       "\t 2008 & access-control       &   12 & 58390 & 2.055146e-04\\\\\n",
       "\t 2008 & accessibility        &   26 & 58390 & 4.452817e-04\\\\\n",
       "\t 2008 & access-vba           &   50 & 58390 & 8.563110e-04\\\\\n",
       "\t 2008 & access-violation     &    4 & 58390 & 6.850488e-05\\\\\n",
       "\t 2008 & accordion            &    9 & 58390 & 1.541360e-04\\\\\n",
       "\t 2008 & acl                  &   11 & 58390 & 1.883884e-04\\\\\n",
       "\t 2008 & acrobat              &   10 & 58390 & 1.712622e-04\\\\\n",
       "\t 2008 & action               &   10 & 58390 & 1.712622e-04\\\\\n",
       "\t 2008 & actionlistener       &    4 & 58390 & 6.850488e-05\\\\\n",
       "\t 2008 & actionmailer         &    3 & 58390 & 5.137866e-05\\\\\n",
       "\t 2008 & actionscript         &  136 & 58390 & 2.329166e-03\\\\\n",
       "\t ⋮ & ⋮ & ⋮ & ⋮ & ⋮\\\\\n",
       "\t 2018 & yaml              &  648 & 1085170 & 5.971415e-04\\\\\n",
       "\t 2018 & yarn              &  357 & 1085170 & 3.289807e-04\\\\\n",
       "\t 2018 & yeoman            &   36 & 1085170 & 3.317453e-05\\\\\n",
       "\t 2018 & yesod             &   41 & 1085170 & 3.778210e-05\\\\\n",
       "\t 2018 & yield             &   69 & 1085170 & 6.358451e-05\\\\\n",
       "\t 2018 & yii               &  269 & 1085170 & 2.478874e-04\\\\\n",
       "\t 2018 & yii2              & 1181 & 1085170 & 1.088309e-03\\\\\n",
       "\t 2018 & yii2-advanced-app &  209 & 1085170 & 1.925966e-04\\\\\n",
       "\t 2018 & yocto             &  288 & 1085170 & 2.653962e-04\\\\\n",
       "\t 2018 & youtube           &  676 & 1085170 & 6.229439e-04\\\\\n",
       "\t 2018 & youtube-api       &  473 & 1085170 & 4.358764e-04\\\\\n",
       "\t 2018 & youtube-api-v3    &  223 & 1085170 & 2.054978e-04\\\\\n",
       "\t 2018 & youtube-data-api  &  203 & 1085170 & 1.870675e-04\\\\\n",
       "\t 2018 & yui               &    5 & 1085170 & 4.607573e-06\\\\\n",
       "\t 2018 & yum               &   98 & 1085170 & 9.030843e-05\\\\\n",
       "\t 2018 & z3                &  124 & 1085170 & 1.142678e-04\\\\\n",
       "\t 2018 & zend-db           &   11 & 1085170 & 1.013666e-05\\\\\n",
       "\t 2018 & zend-form         &   13 & 1085170 & 1.197969e-05\\\\\n",
       "\t 2018 & zend-framework    &  188 & 1085170 & 1.732447e-04\\\\\n",
       "\t 2018 & zend-framework2   &  108 & 1085170 & 9.952358e-05\\\\\n",
       "\t 2018 & zeromq            &  168 & 1085170 & 1.548145e-04\\\\\n",
       "\t 2018 & z-index           &  107 & 1085170 & 9.860206e-05\\\\\n",
       "\t 2018 & zip               &  410 & 1085170 & 3.778210e-04\\\\\n",
       "\t 2018 & zipfile           &  115 & 1085170 & 1.059742e-04\\\\\n",
       "\t 2018 & zk                &   35 & 1085170 & 3.225301e-05\\\\\n",
       "\t 2018 & zlib              &   89 & 1085170 & 8.201480e-05\\\\\n",
       "\t 2018 & zoom              &  196 & 1085170 & 1.806169e-04\\\\\n",
       "\t 2018 & zsh               &  175 & 1085170 & 1.612651e-04\\\\\n",
       "\t 2018 & zurb-foundation   &  182 & 1085170 & 1.677157e-04\\\\\n",
       "\t 2018 & zxing             &   95 & 1085170 & 8.754389e-05\\\\\n",
       "\\end{tabular}\n"
      ],
      "text/markdown": [
       "\n",
       "A tibble: 40518 × 5\n",
       "\n",
       "| year &lt;dbl&gt; | tag &lt;chr&gt; | number &lt;dbl&gt; | year_total &lt;dbl&gt; | fraction &lt;dbl&gt; |\n",
       "|---|---|---|---|---|\n",
       "| 2008 | .htaccess            |   54 | 58390 | 9.248159e-04 |\n",
       "| 2008 | .net                 | 5910 | 58390 | 1.012160e-01 |\n",
       "| 2008 | .net-2.0             |  289 | 58390 | 4.949478e-03 |\n",
       "| 2008 | .net-3.5             |  319 | 58390 | 5.463264e-03 |\n",
       "| 2008 | .net-4.0             |    6 | 58390 | 1.027573e-04 |\n",
       "| 2008 | .net-assembly        |    3 | 58390 | 5.137866e-05 |\n",
       "| 2008 | .net-core            |    1 | 58390 | 1.712622e-05 |\n",
       "| 2008 | 2d                   |   42 | 58390 | 7.193013e-04 |\n",
       "| 2008 | 32-bit               |   19 | 58390 | 3.253982e-04 |\n",
       "| 2008 | 32bit-64bit          |    4 | 58390 | 6.850488e-05 |\n",
       "| 2008 | 3d                   |   73 | 58390 | 1.250214e-03 |\n",
       "| 2008 | 64bit                |  149 | 58390 | 2.551807e-03 |\n",
       "| 2008 | abap                 |   10 | 58390 | 1.712622e-04 |\n",
       "| 2008 | absolute             |    1 | 58390 | 1.712622e-05 |\n",
       "| 2008 | abstract             |    5 | 58390 | 8.563110e-05 |\n",
       "| 2008 | abstract-class       |   27 | 58390 | 4.624079e-04 |\n",
       "| 2008 | abstract-syntax-tree |    6 | 58390 | 1.027573e-04 |\n",
       "| 2008 | accelerometer        |    3 | 58390 | 5.137866e-05 |\n",
       "| 2008 | access               |    1 | 58390 | 1.712622e-05 |\n",
       "| 2008 | access-control       |   12 | 58390 | 2.055146e-04 |\n",
       "| 2008 | accessibility        |   26 | 58390 | 4.452817e-04 |\n",
       "| 2008 | access-vba           |   50 | 58390 | 8.563110e-04 |\n",
       "| 2008 | access-violation     |    4 | 58390 | 6.850488e-05 |\n",
       "| 2008 | accordion            |    9 | 58390 | 1.541360e-04 |\n",
       "| 2008 | acl                  |   11 | 58390 | 1.883884e-04 |\n",
       "| 2008 | acrobat              |   10 | 58390 | 1.712622e-04 |\n",
       "| 2008 | action               |   10 | 58390 | 1.712622e-04 |\n",
       "| 2008 | actionlistener       |    4 | 58390 | 6.850488e-05 |\n",
       "| 2008 | actionmailer         |    3 | 58390 | 5.137866e-05 |\n",
       "| 2008 | actionscript         |  136 | 58390 | 2.329166e-03 |\n",
       "| ⋮ | ⋮ | ⋮ | ⋮ | ⋮ |\n",
       "| 2018 | yaml              |  648 | 1085170 | 5.971415e-04 |\n",
       "| 2018 | yarn              |  357 | 1085170 | 3.289807e-04 |\n",
       "| 2018 | yeoman            |   36 | 1085170 | 3.317453e-05 |\n",
       "| 2018 | yesod             |   41 | 1085170 | 3.778210e-05 |\n",
       "| 2018 | yield             |   69 | 1085170 | 6.358451e-05 |\n",
       "| 2018 | yii               |  269 | 1085170 | 2.478874e-04 |\n",
       "| 2018 | yii2              | 1181 | 1085170 | 1.088309e-03 |\n",
       "| 2018 | yii2-advanced-app |  209 | 1085170 | 1.925966e-04 |\n",
       "| 2018 | yocto             |  288 | 1085170 | 2.653962e-04 |\n",
       "| 2018 | youtube           |  676 | 1085170 | 6.229439e-04 |\n",
       "| 2018 | youtube-api       |  473 | 1085170 | 4.358764e-04 |\n",
       "| 2018 | youtube-api-v3    |  223 | 1085170 | 2.054978e-04 |\n",
       "| 2018 | youtube-data-api  |  203 | 1085170 | 1.870675e-04 |\n",
       "| 2018 | yui               |    5 | 1085170 | 4.607573e-06 |\n",
       "| 2018 | yum               |   98 | 1085170 | 9.030843e-05 |\n",
       "| 2018 | z3                |  124 | 1085170 | 1.142678e-04 |\n",
       "| 2018 | zend-db           |   11 | 1085170 | 1.013666e-05 |\n",
       "| 2018 | zend-form         |   13 | 1085170 | 1.197969e-05 |\n",
       "| 2018 | zend-framework    |  188 | 1085170 | 1.732447e-04 |\n",
       "| 2018 | zend-framework2   |  108 | 1085170 | 9.952358e-05 |\n",
       "| 2018 | zeromq            |  168 | 1085170 | 1.548145e-04 |\n",
       "| 2018 | z-index           |  107 | 1085170 | 9.860206e-05 |\n",
       "| 2018 | zip               |  410 | 1085170 | 3.778210e-04 |\n",
       "| 2018 | zipfile           |  115 | 1085170 | 1.059742e-04 |\n",
       "| 2018 | zk                |   35 | 1085170 | 3.225301e-05 |\n",
       "| 2018 | zlib              |   89 | 1085170 | 8.201480e-05 |\n",
       "| 2018 | zoom              |  196 | 1085170 | 1.806169e-04 |\n",
       "| 2018 | zsh               |  175 | 1085170 | 1.612651e-04 |\n",
       "| 2018 | zurb-foundation   |  182 | 1085170 | 1.677157e-04 |\n",
       "| 2018 | zxing             |   95 | 1085170 | 8.754389e-05 |\n",
       "\n"
      ],
      "text/plain": [
       "      year tag                  number year_total fraction    \n",
       "1     2008 .htaccess              54   58390      9.248159e-04\n",
       "2     2008 .net                 5910   58390      1.012160e-01\n",
       "3     2008 .net-2.0              289   58390      4.949478e-03\n",
       "4     2008 .net-3.5              319   58390      5.463264e-03\n",
       "5     2008 .net-4.0                6   58390      1.027573e-04\n",
       "6     2008 .net-assembly           3   58390      5.137866e-05\n",
       "7     2008 .net-core               1   58390      1.712622e-05\n",
       "8     2008 2d                     42   58390      7.193013e-04\n",
       "9     2008 32-bit                 19   58390      3.253982e-04\n",
       "10    2008 32bit-64bit             4   58390      6.850488e-05\n",
       "11    2008 3d                     73   58390      1.250214e-03\n",
       "12    2008 64bit                 149   58390      2.551807e-03\n",
       "13    2008 abap                   10   58390      1.712622e-04\n",
       "14    2008 absolute                1   58390      1.712622e-05\n",
       "15    2008 abstract                5   58390      8.563110e-05\n",
       "16    2008 abstract-class         27   58390      4.624079e-04\n",
       "17    2008 abstract-syntax-tree    6   58390      1.027573e-04\n",
       "18    2008 accelerometer           3   58390      5.137866e-05\n",
       "19    2008 access                  1   58390      1.712622e-05\n",
       "20    2008 access-control         12   58390      2.055146e-04\n",
       "21    2008 accessibility          26   58390      4.452817e-04\n",
       "22    2008 access-vba             50   58390      8.563110e-04\n",
       "23    2008 access-violation        4   58390      6.850488e-05\n",
       "24    2008 accordion               9   58390      1.541360e-04\n",
       "25    2008 acl                    11   58390      1.883884e-04\n",
       "26    2008 acrobat                10   58390      1.712622e-04\n",
       "27    2008 action                 10   58390      1.712622e-04\n",
       "28    2008 actionlistener          4   58390      6.850488e-05\n",
       "29    2008 actionmailer            3   58390      5.137866e-05\n",
       "30    2008 actionscript          136   58390      2.329166e-03\n",
       "⋮     ⋮    ⋮                    ⋮      ⋮          ⋮           \n",
       "40489 2018 yaml                  648   1085170    5.971415e-04\n",
       "40490 2018 yarn                  357   1085170    3.289807e-04\n",
       "40491 2018 yeoman                 36   1085170    3.317453e-05\n",
       "40492 2018 yesod                  41   1085170    3.778210e-05\n",
       "40493 2018 yield                  69   1085170    6.358451e-05\n",
       "40494 2018 yii                   269   1085170    2.478874e-04\n",
       "40495 2018 yii2                 1181   1085170    1.088309e-03\n",
       "40496 2018 yii2-advanced-app     209   1085170    1.925966e-04\n",
       "40497 2018 yocto                 288   1085170    2.653962e-04\n",
       "40498 2018 youtube               676   1085170    6.229439e-04\n",
       "40499 2018 youtube-api           473   1085170    4.358764e-04\n",
       "40500 2018 youtube-api-v3        223   1085170    2.054978e-04\n",
       "40501 2018 youtube-data-api      203   1085170    1.870675e-04\n",
       "40502 2018 yui                     5   1085170    4.607573e-06\n",
       "40503 2018 yum                    98   1085170    9.030843e-05\n",
       "40504 2018 z3                    124   1085170    1.142678e-04\n",
       "40505 2018 zend-db                11   1085170    1.013666e-05\n",
       "40506 2018 zend-form              13   1085170    1.197969e-05\n",
       "40507 2018 zend-framework        188   1085170    1.732447e-04\n",
       "40508 2018 zend-framework2       108   1085170    9.952358e-05\n",
       "40509 2018 zeromq                168   1085170    1.548145e-04\n",
       "40510 2018 z-index               107   1085170    9.860206e-05\n",
       "40511 2018 zip                   410   1085170    3.778210e-04\n",
       "40512 2018 zipfile               115   1085170    1.059742e-04\n",
       "40513 2018 zk                     35   1085170    3.225301e-05\n",
       "40514 2018 zlib                   89   1085170    8.201480e-05\n",
       "40515 2018 zoom                  196   1085170    1.806169e-04\n",
       "40516 2018 zsh                   175   1085170    1.612651e-04\n",
       "40517 2018 zurb-foundation       182   1085170    1.677157e-04\n",
       "40518 2018 zxing                  95   1085170    8.754389e-05"
      ]
     },
     "metadata": {},
     "output_type": "display_data"
    }
   ],
   "source": [
    "# Add fraction column\n",
    "by_tag_year_fraction <- by_tag_year %>% mutate(fraction = number/year_total)\n",
    "\n",
    "# Print the new table\n",
    "by_tag_year_fraction"
   ]
  },
  {
   "cell_type": "markdown",
   "metadata": {
    "dc": {
     "key": "18"
    },
    "deletable": false,
    "editable": false,
    "run_control": {
     "frozen": true
    },
    "tags": [
     "context"
    ]
   },
   "source": [
    "## 3. Has R been growing or shrinking?\n",
    "<p>So far we've been learning and using the R programming language. Wouldn't we like to be sure it's a good investment for the future? Has it been keeping pace with other languages, or have people been switching out of it?</p>\n",
    "<p>Let's look at whether the fraction of Stack Overflow questions that are about R has been increasing or decreasing over time.</p>"
   ]
  },
  {
   "cell_type": "code",
   "execution_count": 0,
   "metadata": {
    "dc": {
     "key": "18"
    },
    "tags": [
     "sample_code"
    ]
   },
   "outputs": [],
   "source": [
    "# Filter for R tags\n",
    "r_over_time <- ....\n",
    "\n",
    "# Print the new table\n",
    "# .... YOUR CODE FOR TASK 3 ...."
   ]
  },
  {
   "cell_type": "markdown",
   "metadata": {
    "dc": {
     "key": "25"
    },
    "deletable": false,
    "editable": false,
    "run_control": {
     "frozen": true
    },
    "tags": [
     "context"
    ]
   },
   "source": [
    "## 4. Visualizing change over time\n",
    "<p>Rather than looking at the results in a table, we often want to create a visualization. Change over time is usually visualized with a line plot.</p>"
   ]
  },
  {
   "cell_type": "code",
   "execution_count": 0,
   "metadata": {
    "dc": {
     "key": "25"
    },
    "tags": [
     "sample_code"
    ]
   },
   "outputs": [],
   "source": [
    "# Load ggplot2\n",
    "# .... YOUR CODE FOR TASK 4 ....\n",
    "\n",
    "# Create a line plot of fraction over time\n",
    "# .... YOUR CODE FOR TASK 4 ...."
   ]
  },
  {
   "cell_type": "markdown",
   "metadata": {
    "dc": {
     "key": "32"
    },
    "deletable": false,
    "editable": false,
    "run_control": {
     "frozen": true
    },
    "tags": [
     "context"
    ]
   },
   "source": [
    "## 5. How about dplyr and ggplot2?\n",
    "<p>Based on that graph, it looks like R has been growing pretty fast in the last decade. Good thing we're practicing it now!</p>\n",
    "<p>Besides R, two other interesting tags are dplyr and ggplot2, which we've already used in this analysis. They both also have Stack Overflow tags!</p>\n",
    "<p>Instead of just looking at R, let's look at all three tags and their change over time. Are each of those tags increasing as a fraction of overall questions? Are any of them decreasing?</p>"
   ]
  },
  {
   "cell_type": "code",
   "execution_count": 0,
   "metadata": {
    "dc": {
     "key": "32"
    },
    "tags": [
     "sample_code"
    ]
   },
   "outputs": [],
   "source": [
    "# A vector of selected tags\n",
    "selected_tags <- ....\n",
    "\n",
    "# Filter for those tags\n",
    "selected_tags_over_time <- ....\n",
    "\n",
    "# Plot tags over time on a line plot using color to represent tag\n",
    "# .... YOUR CODE FOR TASK 5 ...."
   ]
  },
  {
   "cell_type": "markdown",
   "metadata": {
    "dc": {
     "key": "39"
    },
    "deletable": false,
    "editable": false,
    "run_control": {
     "frozen": true
    },
    "tags": [
     "context"
    ]
   },
   "source": [
    "## 6. What are the most asked-about tags?\n",
    "<p>It's sure been fun to visualize and compare tags over time. The dplyr and ggplot2 tags may not have as many questions as R, but we can tell they're both growing quickly as well.</p>\n",
    "<p>We might like to know which tags have the most questions <em>overall</em>, not just within a particular year. Right now, we have several rows for every tag, but we'll be combining them into one. That means we want <code>group_by()</code> and <code>summarize()</code>.</p>\n",
    "<p>Let's look at tags that have the most questions in history.</p>"
   ]
  },
  {
   "cell_type": "code",
   "execution_count": 0,
   "metadata": {
    "dc": {
     "key": "39"
    },
    "tags": [
     "sample_code"
    ]
   },
   "outputs": [],
   "source": [
    "# Find total number of questions for each tag\n",
    "sorted_tags <- by_tag_year %>%\n",
    "# .... YOUR CODE FOR TASK 6 ....\n",
    "\n",
    "# Print the new table\n",
    "# .... YOUR CODE FOR TASK 6"
   ]
  },
  {
   "cell_type": "markdown",
   "metadata": {
    "dc": {
     "key": "46"
    },
    "deletable": false,
    "editable": false,
    "run_control": {
     "frozen": true
    },
    "tags": [
     "context"
    ]
   },
   "source": [
    "## 7. How have large programming languages changed over time?\n",
    "<p>We've looked at selected tags like R, ggplot2, and dplyr, and seen that they're each growing. What tags might be <em>shrinking</em>? A good place to start is to plot the tags that we just saw that were the most-asked about of all time, including JavaScript, Java and C#.</p>"
   ]
  },
  {
   "cell_type": "code",
   "execution_count": 0,
   "metadata": {
    "dc": {
     "key": "46"
    },
    "tags": [
     "sample_code"
    ]
   },
   "outputs": [],
   "source": [
    "# Get the six largest tags\n",
    "highest_tags <- head(sorted_tags$tag)\n",
    "\n",
    "# Filter for the six largest tags\n",
    "by_tag_subset <- ....\n",
    "\n",
    "# Plot tags over time on a line plot using color to represent tag\n",
    "# .... YOUR CODE FOR TASK 7 ...."
   ]
  },
  {
   "cell_type": "markdown",
   "metadata": {
    "dc": {
     "key": "53"
    },
    "deletable": false,
    "editable": false,
    "run_control": {
     "frozen": true
    },
    "tags": [
     "context"
    ]
   },
   "source": [
    "## 8. Some more tags!\n",
    "<p>Wow, based on that graph we've seen a lot of changes in what programming languages are most asked about. C# gets fewer questions than it used to, and Python has grown quite impressively.</p>\n",
    "<p>This Stack Overflow data is incredibly versatile. We can analyze <em>any</em> programming language, web framework, or tool where we'd like to see their change over time. Combined with the reproducibility of R and its libraries, we have ourselves a powerful method of uncovering insights about technology.</p>\n",
    "<p>To demonstrate its versatility, let's check out how three big mobile operating systems (Android, iOS, and Windows Phone) have compared in popularity over time. But remember: this code can be modified simply by changing the tag names!</p>"
   ]
  },
  {
   "cell_type": "code",
   "execution_count": 0,
   "metadata": {
    "dc": {
     "key": "53"
    },
    "tags": [
     "sample_code"
    ]
   },
   "outputs": [],
   "source": [
    "# Get tags of interest\n",
    "my_tags <- ....\n",
    "\n",
    "# Filter for those tags\n",
    "by_tag_subset <- ....\n",
    "\n",
    "# Plot tags over time on a line plot using color to represent tag\n",
    "# .... YOUR CODE FOR TASK 8 ...."
   ]
  }
 ],
 "metadata": {
  "kernelspec": {
   "display_name": "R",
   "language": "R",
   "name": "ir"
  },
  "language_info": {
   "codemirror_mode": "r",
   "file_extension": ".r",
   "mimetype": "text/x-r-source",
   "name": "R",
   "pygments_lexer": "r",
   "version": "4.2.3"
  }
 },
 "nbformat": 4,
 "nbformat_minor": 2
}
